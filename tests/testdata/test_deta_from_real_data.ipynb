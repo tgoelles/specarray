{
 "cells": [
  {
   "cell_type": "code",
   "execution_count": null,
   "metadata": {},
   "outputs": [],
   "source": [
    "from specarray import SpecArray\n",
    "from pathlib import Path\n",
    "import matplotlib.pyplot as plt\n",
    "\n",
    "import pandas as pd\n",
    "import numpy as np\n",
    "\n",
    "import xarray as xr\n"
   ]
  },
  {
   "cell_type": "markdown",
   "metadata": {},
   "source": []
  },
  {
   "cell_type": "markdown",
   "metadata": {},
   "source": [
    "Defining a folder where all the data is stored.\n",
    "The testdata is genearted from real world data, but the data is not included in the repository.\n",
    "Idealy this is only run once and then never again"
   ]
  },
  {
   "cell_type": "code",
   "execution_count": null,
   "metadata": {},
   "outputs": [],
   "source": [
    "data_dir = Path(\"/workspaces/specarray/notebooks/data/white_weathering_crust_2_2023-07-15_15-25-24\")\n"
   ]
  },
  {
   "cell_type": "markdown",
   "metadata": {},
   "source": [
    "The Folder contains the folders capture whith hdr and raw files"
   ]
  },
  {
   "cell_type": "code",
   "execution_count": null,
   "metadata": {},
   "outputs": [],
   "source": [
    "capture_folder = data_dir / \"capture\"\n",
    "list(capture_folder.glob(\"*\"))\n"
   ]
  },
  {
   "cell_type": "markdown",
   "metadata": {},
   "source": [
    "Now make in instance of SpecArray and read the data:"
   ]
  },
  {
   "cell_type": "code",
   "execution_count": null,
   "metadata": {},
   "outputs": [],
   "source": [
    "white_weathering_crust = SpecArray.from_folder(data_dir)\n"
   ]
  },
  {
   "cell_type": "code",
   "execution_count": null,
   "metadata": {},
   "outputs": [],
   "source": [
    "white_weathering_crust.wavelengths.to_csv(\"/workspaces/specarray/tests/testdata/wavelengths.csv\")\n"
   ]
  },
  {
   "cell_type": "code",
   "execution_count": null,
   "metadata": {},
   "outputs": [],
   "source": [
    "white_weathering_crust.capture.isel(sample=0).to_dataframe().to_csv(\"/workspaces/specarray/tests/testdata/capture.csv\")\n",
    "white_weathering_crust.capture.isel(sample=0).to_dataframe()\n"
   ]
  },
  {
   "cell_type": "code",
   "execution_count": null,
   "metadata": {},
   "outputs": [],
   "source": [
    "white_weathering_crust.capture.isel(sample=0).to_dataframe().to_csv(\"/workspaces/specarray/tests/testdata/capture.csv\")\n",
    "white_weathering_crust.capture\n"
   ]
  },
  {
   "cell_type": "code",
   "execution_count": null,
   "metadata": {},
   "outputs": [],
   "source": [
    "white_weathering_crust.capture.isel(sample=[0, 1]).to_netcdf(\"/workspaces/specarray/tests/testdata/capture.nc\")\n"
   ]
  },
  {
   "cell_type": "code",
   "execution_count": null,
   "metadata": {},
   "outputs": [],
   "source": [
    "white_weathering_crust.black.isel(sample=[0, 1]).to_netcdf(\"/workspaces/specarray/tests/testdata/black.nc\")\n"
   ]
  },
  {
   "cell_type": "code",
   "execution_count": null,
   "metadata": {},
   "outputs": [],
   "source": [
    "white_weathering_crust.white.isel(sample=[0, 1]).to_netcdf(\"/workspaces/specarray/tests/testdata/white.nc\")\n"
   ]
  },
  {
   "cell_type": "code",
   "execution_count": null,
   "metadata": {},
   "outputs": [],
   "source": [
    "capture = xr.open_dataset(\"/workspaces/specarray/tests/testdata/capture.nc\")[\"capture\"]\n"
   ]
  },
  {
   "cell_type": "code",
   "execution_count": null,
   "metadata": {},
   "outputs": [],
   "source": [
    "black = xr.open_dataset(\"/workspaces/specarray/tests/testdata/black.nc\")[\"black\"]\n"
   ]
  }
 ],
 "metadata": {
  "kernelspec": {
   "display_name": "base",
   "language": "python",
   "name": "python3"
  },
  "language_info": {
   "codemirror_mode": {
    "name": "ipython",
    "version": 3
   },
   "file_extension": ".py",
   "mimetype": "text/x-python",
   "name": "python",
   "nbconvert_exporter": "python",
   "pygments_lexer": "ipython3",
   "version": "3.11.4"
  },
  "orig_nbformat": 4
 },
 "nbformat": 4,
 "nbformat_minor": 2
}
