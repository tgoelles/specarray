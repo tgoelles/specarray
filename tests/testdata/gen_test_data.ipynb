{
 "cells": [
  {
   "cell_type": "code",
   "execution_count": 1,
   "metadata": {},
   "outputs": [],
   "source": [
    "from specarray import SpecArray\n",
    "from pathlib import Path\n",
    "import matplotlib.pyplot as plt\n"
   ]
  },
  {
   "cell_type": "markdown",
   "metadata": {},
   "source": [
    "Defining a folder where all the data is stored:"
   ]
  },
  {
   "cell_type": "code",
   "execution_count": 5,
   "metadata": {},
   "outputs": [],
   "source": [
    "data_dir = Path(\"/workspaces/specarray/notebooks/data/white_weathering_crust_2_2023-07-15_15-25-24\")\n"
   ]
  },
  {
   "cell_type": "markdown",
   "metadata": {},
   "source": [
    "The Folder contains the folders capture whith hdr and raw files"
   ]
  },
  {
   "cell_type": "code",
   "execution_count": 6,
   "metadata": {},
   "outputs": [
    {
     "data": {
      "text/plain": [
       "[PosixPath('/workspaces/specarray/notebooks/data/white_weathering_crust_2_2023-07-15_15-25-24/capture/DARKREF_QDTest_near_steak_3_white2_2023-07-15_15-25-24.hdr'),\n",
       " PosixPath('/workspaces/specarray/notebooks/data/white_weathering_crust_2_2023-07-15_15-25-24/capture/DARKREF_QDTest_near_steak_3_white2_2023-07-15_15-25-24.log'),\n",
       " PosixPath('/workspaces/specarray/notebooks/data/white_weathering_crust_2_2023-07-15_15-25-24/capture/DARKREF_QDTest_near_steak_3_white2_2023-07-15_15-25-24.raw'),\n",
       " PosixPath('/workspaces/specarray/notebooks/data/white_weathering_crust_2_2023-07-15_15-25-24/capture/QDTest_near_steak_3_white2_2023-07-15_15-25-24.hdr'),\n",
       " PosixPath('/workspaces/specarray/notebooks/data/white_weathering_crust_2_2023-07-15_15-25-24/capture/QDTest_near_steak_3_white2_2023-07-15_15-25-24.log'),\n",
       " PosixPath('/workspaces/specarray/notebooks/data/white_weathering_crust_2_2023-07-15_15-25-24/capture/QDTest_near_steak_3_white2_2023-07-15_15-25-24.raw'),\n",
       " PosixPath('/workspaces/specarray/notebooks/data/white_weathering_crust_2_2023-07-15_15-25-24/capture/WHITEREF_QDTest_near_steak_3_white2_2023-07-15_15-25-24.hdr'),\n",
       " PosixPath('/workspaces/specarray/notebooks/data/white_weathering_crust_2_2023-07-15_15-25-24/capture/WHITEREF_QDTest_near_steak_3_white2_2023-07-15_15-25-24.log'),\n",
       " PosixPath('/workspaces/specarray/notebooks/data/white_weathering_crust_2_2023-07-15_15-25-24/capture/WHITEREF_QDTest_near_steak_3_white2_2023-07-15_15-25-24.raw')]"
      ]
     },
     "execution_count": 6,
     "metadata": {},
     "output_type": "execute_result"
    }
   ],
   "source": [
    "capture_folder = data_dir / \"capture\"\n",
    "list(capture_folder.glob(\"*\"))\n"
   ]
  },
  {
   "cell_type": "markdown",
   "metadata": {},
   "source": [
    "Now make in instance of SpecArray and read the data:"
   ]
  },
  {
   "cell_type": "code",
   "execution_count": 7,
   "metadata": {},
   "outputs": [
    {
     "name": "stderr",
     "output_type": "stream",
     "text": [
      "/home/vscode/.local/lib/python3.11/site-packages/spectral/io/envi.py:175: UserWarning: Parameters with non-lowercase names encountered and converted to lowercase. To retain source file parameter name capitalization, set spectral.settings.envi_support_nonlowercase_params to True.\n",
      "  warnings.warn(msg)\n"
     ]
    }
   ],
   "source": [
    "white_weathering_crust = SpecArray.from_folder(data_dir)\n"
   ]
  },
  {
   "cell_type": "code",
   "execution_count": 12,
   "metadata": {},
   "outputs": [],
   "source": [
    "white_weathering_crust.wavelengths.to_csv(\"/workspaces/specarray/tests/testdata/wavelengths.csv\")\n"
   ]
  },
  {
   "cell_type": "code",
   "execution_count": 13,
   "metadata": {},
   "outputs": [
    {
     "data": {
      "text/plain": [
       "0       397.01\n",
       "1       398.32\n",
       "2       399.63\n",
       "3       400.93\n",
       "4       402.24\n",
       "        ...   \n",
       "443     998.88\n",
       "444    1000.29\n",
       "445    1001.70\n",
       "446    1003.11\n",
       "447    1004.52\n",
       "Name: wavelengths (nm), Length: 448, dtype: float64"
      ]
     },
     "execution_count": 13,
     "metadata": {},
     "output_type": "execute_result"
    }
   ],
   "source": [
    "white_weathering_crust.wavelengths\n"
   ]
  },
  {
   "cell_type": "code",
   "execution_count": 9,
   "metadata": {},
   "outputs": [],
   "source": [
    "white_weathering_crust.capture.isel(sample=0).to_pandas().to_csv(\"/workspaces/specarray/tests/testdata/capture.csv\")\n"
   ]
  },
  {
   "cell_type": "code",
   "execution_count": 10,
   "metadata": {},
   "outputs": [],
   "source": [
    "white_weathering_crust.black.isel(sample=0).to_pandas().to_csv(\"/workspaces/specarray/tests/testdata/black.csv\")\n"
   ]
  },
  {
   "cell_type": "code",
   "execution_count": 11,
   "metadata": {},
   "outputs": [],
   "source": [
    "white_weathering_crust.white.isel(sample=0).to_pandas().to_csv(\"/workspaces/specarray/tests/testdata/white.csv\")\n"
   ]
  },
  {
   "cell_type": "code",
   "execution_count": null,
   "metadata": {},
   "outputs": [],
   "source": []
  }
 ],
 "metadata": {
  "kernelspec": {
   "display_name": "base",
   "language": "python",
   "name": "python3"
  },
  "language_info": {
   "codemirror_mode": {
    "name": "ipython",
    "version": 3
   },
   "file_extension": ".py",
   "mimetype": "text/x-python",
   "name": "python",
   "nbconvert_exporter": "python",
   "pygments_lexer": "ipython3",
   "version": "3.11.4"
  },
  "orig_nbformat": 4
 },
 "nbformat": 4,
 "nbformat_minor": 2
}
